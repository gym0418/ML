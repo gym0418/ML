{
 "cells": [
  {
   "cell_type": "markdown",
   "id": "f639e8fc",
   "metadata": {},
   "source": [
    "数据来源  https://archive.ics.uci.edu/ml/datasets/Adult"
   ]
  },
  {
   "cell_type": "markdown",
   "id": "e6f5b8f5",
   "metadata": {},
   "source": [
    "任务目的(二分类)：\n",
    "预测每个人的年收入是否超过50k"
   ]
  },
  {
   "cell_type": "code",
   "execution_count": 1,
   "id": "80acc80c",
   "metadata": {},
   "outputs": [],
   "source": [
    "#import tensorflow as tf\n",
    "import sklearn\n",
    "import pandas as pd\n",
    "import matplotlib.pyplot as plt\n",
    "import numpy as np"
   ]
  },
  {
   "cell_type": "code",
   "execution_count": 2,
   "id": "a884ede7",
   "metadata": {},
   "outputs": [],
   "source": [
    "from sklearn.model_selection import train_test_split,GridSearchCV\n",
    "from sklearn.metrics import accuracy_score,f1_score\n",
    "from sklearn.preprocessing import OrdinalEncoder,OneHotEncoder,StandardScaler\n",
    "from sklearn.pipeline import Pipeline\n",
    "from sklearn.impute import SimpleImputer\n",
    "from sklearn.compose import ColumnTransformer"
   ]
  },
  {
   "cell_type": "markdown",
   "id": "0203e119",
   "metadata": {},
   "source": [
    "## 读取并查看数据"
   ]
  },
  {
   "cell_type": "code",
   "execution_count": 3,
   "id": "1c22b0a7",
   "metadata": {},
   "outputs": [],
   "source": [
    "adult_data = pd.read_csv('adult.data', sep=',', names=[i for i in range(15)])\n",
    "adult_data = pd.DataFrame(adult_data)\n",
    "adult_data.columns = ['age','workclass','fnlwgt','education','education-num',\n",
    "                'marital-status','occupation','relationship','race','sex',\n",
    "                'capital-gain','capital-loss','hours-per-week','native-country',\n",
    "                'year-income']"
   ]
  },
  {
   "cell_type": "code",
   "execution_count": 4,
   "id": "b0efc4c6",
   "metadata": {},
   "outputs": [
    {
     "data": {
      "text/html": [
       "<div>\n",
       "<style scoped>\n",
       "    .dataframe tbody tr th:only-of-type {\n",
       "        vertical-align: middle;\n",
       "    }\n",
       "\n",
       "    .dataframe tbody tr th {\n",
       "        vertical-align: top;\n",
       "    }\n",
       "\n",
       "    .dataframe thead th {\n",
       "        text-align: right;\n",
       "    }\n",
       "</style>\n",
       "<table border=\"1\" class=\"dataframe\">\n",
       "  <thead>\n",
       "    <tr style=\"text-align: right;\">\n",
       "      <th></th>\n",
       "      <th>age</th>\n",
       "      <th>workclass</th>\n",
       "      <th>fnlwgt</th>\n",
       "      <th>education</th>\n",
       "      <th>education-num</th>\n",
       "      <th>marital-status</th>\n",
       "      <th>occupation</th>\n",
       "      <th>relationship</th>\n",
       "      <th>race</th>\n",
       "      <th>sex</th>\n",
       "      <th>capital-gain</th>\n",
       "      <th>capital-loss</th>\n",
       "      <th>hours-per-week</th>\n",
       "      <th>native-country</th>\n",
       "      <th>year-income</th>\n",
       "    </tr>\n",
       "  </thead>\n",
       "  <tbody>\n",
       "    <tr>\n",
       "      <th>0</th>\n",
       "      <td>int64</td>\n",
       "      <td>object</td>\n",
       "      <td>int64</td>\n",
       "      <td>object</td>\n",
       "      <td>int64</td>\n",
       "      <td>object</td>\n",
       "      <td>object</td>\n",
       "      <td>object</td>\n",
       "      <td>object</td>\n",
       "      <td>object</td>\n",
       "      <td>int64</td>\n",
       "      <td>int64</td>\n",
       "      <td>int64</td>\n",
       "      <td>object</td>\n",
       "      <td>object</td>\n",
       "    </tr>\n",
       "  </tbody>\n",
       "</table>\n",
       "</div>"
      ],
      "text/plain": [
       "     age workclass fnlwgt education education-num marital-status occupation  \\\n",
       "0  int64    object  int64    object         int64         object     object   \n",
       "\n",
       "  relationship    race     sex capital-gain capital-loss hours-per-week  \\\n",
       "0       object  object  object        int64        int64          int64   \n",
       "\n",
       "  native-country year-income  \n",
       "0         object      object  "
      ]
     },
     "execution_count": 4,
     "metadata": {},
     "output_type": "execute_result"
    }
   ],
   "source": [
    "pd.DataFrame(adult_data.dtypes).T"
   ]
  },
  {
   "cell_type": "markdown",
   "id": "36599c11",
   "metadata": {},
   "source": [
    "查看是否存在相同类别但输入不同的存在"
   ]
  },
  {
   "cell_type": "code",
   "execution_count": 5,
   "id": "35e1ca90",
   "metadata": {},
   "outputs": [
    {
     "name": "stdout",
     "output_type": "stream",
     "text": [
      "workclass :  {' Federal-gov', ' Private', ' Without-pay', ' ?', ' Self-emp-not-inc', ' Self-emp-inc', ' State-gov', ' Local-gov', ' Never-worked'} \n",
      "\n",
      "marital-status :  {' Married-AF-spouse', ' Never-married', ' Widowed', ' Married-civ-spouse', ' Married-spouse-absent', ' Divorced', ' Separated'} \n",
      "\n",
      "occupation :  {' Sales', ' Tech-support', ' Handlers-cleaners', ' Protective-serv', ' Prof-specialty', ' Farming-fishing', ' Adm-clerical', ' Exec-managerial', ' ?', ' Machine-op-inspct', ' Transport-moving', ' Priv-house-serv', ' Other-service', ' Craft-repair', ' Armed-Forces'} \n",
      "\n",
      "relationship :  {' Other-relative', ' Own-child', ' Not-in-family', ' Husband', ' Wife', ' Unmarried'} \n",
      "\n",
      "race :  {' Other', ' Black', ' Asian-Pac-Islander', ' Amer-Indian-Eskimo', ' White'} \n",
      "\n",
      "sex :  {' Male', ' Female'} \n",
      "\n",
      "native-country :  {' Greece', ' Italy', ' France', ' Canada', ' Hong', ' Taiwan', ' Philippines', ' Columbia', ' Portugal', ' China', ' Haiti', ' Vietnam', ' Puerto-Rico', ' Mexico', ' Honduras', ' ?', ' Dominican-Republic', ' Outlying-US(Guam-USVI-etc)', ' Iran', ' El-Salvador', ' Trinadad&Tobago', ' Guatemala', ' Japan', ' United-States', ' Germany', ' Laos', ' Poland', ' Hungary', ' England', ' South', ' Jamaica', ' Cuba', ' India', ' Nicaragua', ' Yugoslavia', ' Cambodia', ' Peru', ' Ireland', ' Scotland', ' Ecuador', ' Holand-Netherlands', ' Thailand'} \n",
      "\n",
      "year-income :  {' <=50K', ' >50K'} \n",
      "\n"
     ]
    }
   ],
   "source": [
    "ob = ['workclass','marital-status','occupation','relationship','race','sex','native-country','year-income']\n",
    "for x in ob:\n",
    "    print(x,\": \",set(adult_data[x]),'\\n')"
   ]
  },
  {
   "cell_type": "code",
   "execution_count": 6,
   "id": "b92cb852",
   "metadata": {
    "scrolled": true
   },
   "outputs": [],
   "source": [
    "adult_test = pd.read_csv('adult.test', sep=',', names=[i for i in range(15)])\n",
    "adult_test = pd.DataFrame(adult_test).iloc[1:,:]\n",
    "adult_test.columns = ['age','workclass','fnlwgt','education','education-num',\n",
    "                'marital-status','occupation','relationship','race','sex',\n",
    "                'capital-gain','capital-loss','hours-per-week','native-country',\n",
    "                'year-income']"
   ]
  },
  {
   "cell_type": "code",
   "execution_count": 7,
   "id": "52190fdc",
   "metadata": {},
   "outputs": [
    {
     "data": {
      "text/html": [
       "<div>\n",
       "<style scoped>\n",
       "    .dataframe tbody tr th:only-of-type {\n",
       "        vertical-align: middle;\n",
       "    }\n",
       "\n",
       "    .dataframe tbody tr th {\n",
       "        vertical-align: top;\n",
       "    }\n",
       "\n",
       "    .dataframe thead th {\n",
       "        text-align: right;\n",
       "    }\n",
       "</style>\n",
       "<table border=\"1\" class=\"dataframe\">\n",
       "  <thead>\n",
       "    <tr style=\"text-align: right;\">\n",
       "      <th></th>\n",
       "      <th>age</th>\n",
       "      <th>workclass</th>\n",
       "      <th>fnlwgt</th>\n",
       "      <th>education</th>\n",
       "      <th>education-num</th>\n",
       "      <th>marital-status</th>\n",
       "      <th>occupation</th>\n",
       "      <th>relationship</th>\n",
       "      <th>race</th>\n",
       "      <th>sex</th>\n",
       "      <th>capital-gain</th>\n",
       "      <th>capital-loss</th>\n",
       "      <th>hours-per-week</th>\n",
       "      <th>native-country</th>\n",
       "      <th>year-income</th>\n",
       "    </tr>\n",
       "  </thead>\n",
       "  <tbody>\n",
       "    <tr>\n",
       "      <th>0</th>\n",
       "      <td>object</td>\n",
       "      <td>object</td>\n",
       "      <td>float64</td>\n",
       "      <td>object</td>\n",
       "      <td>float64</td>\n",
       "      <td>object</td>\n",
       "      <td>object</td>\n",
       "      <td>object</td>\n",
       "      <td>object</td>\n",
       "      <td>object</td>\n",
       "      <td>float64</td>\n",
       "      <td>float64</td>\n",
       "      <td>float64</td>\n",
       "      <td>object</td>\n",
       "      <td>object</td>\n",
       "    </tr>\n",
       "  </tbody>\n",
       "</table>\n",
       "</div>"
      ],
      "text/plain": [
       "      age workclass   fnlwgt education education-num marital-status  \\\n",
       "0  object    object  float64    object       float64         object   \n",
       "\n",
       "  occupation relationship    race     sex capital-gain capital-loss  \\\n",
       "0     object       object  object  object      float64      float64   \n",
       "\n",
       "  hours-per-week native-country year-income  \n",
       "0        float64         object      object  "
      ]
     },
     "execution_count": 7,
     "metadata": {},
     "output_type": "execute_result"
    }
   ],
   "source": [
    "pd.DataFrame(adult_test.dtypes).T"
   ]
  },
  {
   "cell_type": "code",
   "execution_count": 8,
   "id": "446d2fbc",
   "metadata": {},
   "outputs": [
    {
     "name": "stdout",
     "output_type": "stream",
     "text": [
      "workclass :  {' Federal-gov', ' Private', ' Without-pay', ' ?', ' Self-emp-not-inc', ' Self-emp-inc', ' State-gov', ' Local-gov', ' Never-worked'} \n",
      "\n",
      "marital-status :  {' Married-AF-spouse', ' Never-married', ' Widowed', ' Married-civ-spouse', ' Married-spouse-absent', ' Divorced', ' Separated'} \n",
      "\n",
      "occupation :  {' Protective-serv', ' Tech-support', ' Sales', ' Handlers-cleaners', ' Farming-fishing', ' Prof-specialty', ' Adm-clerical', ' Exec-managerial', ' ?', ' Machine-op-inspct', ' Transport-moving', ' Priv-house-serv', ' Other-service', ' Craft-repair', ' Armed-Forces'} \n",
      "\n",
      "relationship :  {' Other-relative', ' Not-in-family', ' Own-child', ' Husband', ' Wife', ' Unmarried'} \n",
      "\n",
      "race :  {' Other', ' Black', ' Asian-Pac-Islander', ' Amer-Indian-Eskimo', ' White'} \n",
      "\n",
      "sex :  {' Male', ' Female'} \n",
      "\n",
      "native-country :  {' Greece', ' Italy', ' France', ' Canada', ' Hong', ' Taiwan', ' Philippines', ' Columbia', ' Portugal', ' China', ' Haiti', ' Vietnam', ' Puerto-Rico', ' Mexico', ' Honduras', ' ?', ' Dominican-Republic', ' Outlying-US(Guam-USVI-etc)', ' Iran', ' El-Salvador', ' Trinadad&Tobago', ' Guatemala', ' Japan', ' United-States', ' Germany', ' Laos', ' Poland', ' Hungary', ' England', ' South', ' Jamaica', ' Cuba', ' India', ' Nicaragua', ' Yugoslavia', ' Cambodia', ' Peru', ' Ireland', ' Scotland', ' Ecuador', ' Thailand'} \n",
      "\n",
      "year-income :  {' <=50K.', ' >50K.'} \n",
      "\n"
     ]
    }
   ],
   "source": [
    "for x in ob:\n",
    "    print(x,\": \",set(adult_test[x]),'\\n')"
   ]
  },
  {
   "cell_type": "markdown",
   "id": "4f6ddc18",
   "metadata": {},
   "source": [
    "## 数据预处理"
   ]
  },
  {
   "cell_type": "markdown",
   "id": "ffd74d29",
   "metadata": {},
   "source": [
    "数据处理思路：  \n",
    "考虑到下面会使用交叉验证以及网格搜索进行最优参数选择，在交叉验证中，valid会被fit到模型中进行训练，可能会导致模型对train、valid过拟合。因此将训练集adult_data划分为train、valid，选择将train作为训练集进行交叉验证，得到最优参数，再为使用最优参数的模型学习valid数据，在adult_test中检验模型学习得分。  \n",
    "对于adult_data：选择去除噪声数据（去除缺失值），拟合得到最优学习器。  \n",
    "对于adult_test：将其视为需要模型预测的最终数据集，当使用模型进行预测时，应对任意一个不完美的样本都做出预测，因此选择补充缺失值。"
   ]
  },
  {
   "cell_type": "code",
   "execution_count": 9,
   "id": "ba296ff3",
   "metadata": {},
   "outputs": [],
   "source": [
    "adult_data = adult_data.drop(['education'],axis=1)"
   ]
  },
  {
   "cell_type": "code",
   "execution_count": 10,
   "id": "88934b11",
   "metadata": {},
   "outputs": [],
   "source": [
    "adult_test = adult_test.drop(['education'],axis=1)"
   ]
  },
  {
   "cell_type": "markdown",
   "id": "44b84fc7",
   "metadata": {},
   "source": [
    "### 缺失值处理"
   ]
  },
  {
   "cell_type": "code",
   "execution_count": 11,
   "id": "5fcebb9d",
   "metadata": {},
   "outputs": [],
   "source": [
    "import missingno as msno"
   ]
  },
  {
   "cell_type": "markdown",
   "id": "db3081d9",
   "metadata": {},
   "source": [
    "#### adult_data"
   ]
  },
  {
   "cell_type": "code",
   "execution_count": 12,
   "id": "f86ae3f3",
   "metadata": {},
   "outputs": [],
   "source": [
    "adult_data = adult_data.replace(' ?',np.nan)"
   ]
  },
  {
   "cell_type": "code",
   "execution_count": 13,
   "id": "62cae4f7",
   "metadata": {},
   "outputs": [
    {
     "data": {
      "text/plain": [
       "<AxesSubplot:>"
      ]
     },
     "execution_count": 13,
     "metadata": {},
     "output_type": "execute_result"
    },
    {
     "data": {
      "image/png": "[encoded data removed]",
      "text/plain": [
       "<Figure size 720x360 with 2 Axes>"
      ]
     },
     "metadata": {
      "needs_background": "light"
     },
     "output_type": "display_data"
    }
   ],
   "source": [
    "msno.heatmap(adult_data,figsize=(10,5))"
   ]
  },
  {
   "cell_type": "markdown",
   "id": "5de1741b",
   "metadata": {},
   "source": [
    "可以得知，occupation与workclass同步缺失"
   ]
  },
  {
   "cell_type": "markdown",
   "id": "13256280",
   "metadata": {},
   "source": [
    "查看缺失值出现的维度"
   ]
  },
  {
   "cell_type": "code",
   "execution_count": 14,
   "id": "eb1051f4",
   "metadata": {},
   "outputs": [
    {
     "data": {
      "text/plain": [
       "<AxesSubplot:>"
      ]
     },
     "execution_count": 14,
     "metadata": {},
     "output_type": "execute_result"
    },
    {
     "data": {
      "image/png": "[encoded data removed]",
      "text/plain": [
       "<Figure size 720x360 with 2 Axes>"
      ]
     },
     "metadata": {
      "needs_background": "light"
     },
     "output_type": "display_data"
    }
   ],
   "source": [
    "msno.matrix(adult_data,figsize=(10,5))"
   ]
  },
  {
   "cell_type": "code",
   "execution_count": 15,
   "id": "1975abec",
   "metadata": {},
   "outputs": [
    {
     "data": {
      "text/plain": [
       "age                  0\n",
       "workclass         1836\n",
       "fnlwgt               0\n",
       "education-num        0\n",
       "marital-status       0\n",
       "occupation        1843\n",
       "relationship         0\n",
       "race                 0\n",
       "sex                  0\n",
       "capital-gain         0\n",
       "capital-loss         0\n",
       "hours-per-week       0\n",
       "native-country     583\n",
       "year-income          0\n",
       "dtype: int64"
      ]
     },
     "execution_count": 15,
     "metadata": {},
     "output_type": "execute_result"
    }
   ],
   "source": [
    "missing_values_count = adult_data.isnull().sum()\n",
    "missing_values_count"
   ]
  },
  {
   "cell_type": "markdown",
   "id": "9239c002",
   "metadata": {},
   "source": [
    "由于occupation相较于workclass有更多缺失值，下查看occupation缺失时workclass的值"
   ]
  },
  {
   "cell_type": "code",
   "execution_count": 16,
   "id": "fc4effa4",
   "metadata": {},
   "outputs": [
    {
     "data": {
      "text/html": [
       "<div>\n",
       "<style scoped>\n",
       "    .dataframe tbody tr th:only-of-type {\n",
       "        vertical-align: middle;\n",
       "    }\n",
       "\n",
       "    .dataframe tbody tr th {\n",
       "        vertical-align: top;\n",
       "    }\n",
       "\n",
       "    .dataframe thead th {\n",
       "        text-align: right;\n",
       "    }\n",
       "</style>\n",
       "<table border=\"1\" class=\"dataframe\">\n",
       "  <thead>\n",
       "    <tr style=\"text-align: right;\">\n",
       "      <th></th>\n",
       "      <th>occupation</th>\n",
       "      <th>workclass</th>\n",
       "    </tr>\n",
       "  </thead>\n",
       "  <tbody>\n",
       "    <tr>\n",
       "      <th>5361</th>\n",
       "      <td>NaN</td>\n",
       "      <td>Never-worked</td>\n",
       "    </tr>\n",
       "    <tr>\n",
       "      <th>10845</th>\n",
       "      <td>NaN</td>\n",
       "      <td>Never-worked</td>\n",
       "    </tr>\n",
       "    <tr>\n",
       "      <th>14772</th>\n",
       "      <td>NaN</td>\n",
       "      <td>Never-worked</td>\n",
       "    </tr>\n",
       "    <tr>\n",
       "      <th>20337</th>\n",
       "      <td>NaN</td>\n",
       "      <td>Never-worked</td>\n",
       "    </tr>\n",
       "    <tr>\n",
       "      <th>23232</th>\n",
       "      <td>NaN</td>\n",
       "      <td>Never-worked</td>\n",
       "    </tr>\n",
       "    <tr>\n",
       "      <th>32304</th>\n",
       "      <td>NaN</td>\n",
       "      <td>Never-worked</td>\n",
       "    </tr>\n",
       "    <tr>\n",
       "      <th>32314</th>\n",
       "      <td>NaN</td>\n",
       "      <td>Never-worked</td>\n",
       "    </tr>\n",
       "  </tbody>\n",
       "</table>\n",
       "</div>"
      ],
      "text/plain": [
       "      occupation      workclass\n",
       "5361         NaN   Never-worked\n",
       "10845        NaN   Never-worked\n",
       "14772        NaN   Never-worked\n",
       "20337        NaN   Never-worked\n",
       "23232        NaN   Never-worked\n",
       "32304        NaN   Never-worked\n",
       "32314        NaN   Never-worked"
      ]
     },
     "execution_count": 16,
     "metadata": {},
     "output_type": "execute_result"
    }
   ],
   "source": [
    "adult_data[['occupation','workclass']][(adult_data['occupation'].isna()==True) & (adult_data['workclass'].isna()==False)]"
   ]
  },
  {
   "cell_type": "markdown",
   "id": "69419820",
   "metadata": {},
   "source": [
    "当occupation缺失时，workclass表现为'Never-worked'，因此将这部分值填充为' Never-worked'"
   ]
  },
  {
   "cell_type": "code",
   "execution_count": 17,
   "id": "2c3d49ba",
   "metadata": {},
   "outputs": [],
   "source": [
    "adult_data.loc[(adult_data['occupation'].isna()==True) & (adult_data['workclass'].isna()==False),'occupation'] = ' Never-worked'"
   ]
  },
  {
   "cell_type": "code",
   "execution_count": 18,
   "id": "82768140",
   "metadata": {},
   "outputs": [
    {
     "data": {
      "text/html": [
       "<div>\n",
       "<style scoped>\n",
       "    .dataframe tbody tr th:only-of-type {\n",
       "        vertical-align: middle;\n",
       "    }\n",
       "\n",
       "    .dataframe tbody tr th {\n",
       "        vertical-align: top;\n",
       "    }\n",
       "\n",
       "    .dataframe thead th {\n",
       "        text-align: right;\n",
       "    }\n",
       "</style>\n",
       "<table border=\"1\" class=\"dataframe\">\n",
       "  <thead>\n",
       "    <tr style=\"text-align: right;\">\n",
       "      <th></th>\n",
       "      <th>occupation</th>\n",
       "      <th>workclass</th>\n",
       "    </tr>\n",
       "  </thead>\n",
       "  <tbody>\n",
       "  </tbody>\n",
       "</table>\n",
       "</div>"
      ],
      "text/plain": [
       "Empty DataFrame\n",
       "Columns: [occupation, workclass]\n",
       "Index: []"
      ]
     },
     "execution_count": 18,
     "metadata": {},
     "output_type": "execute_result"
    }
   ],
   "source": [
    "adult_data[['occupation','workclass']][(adult_data['occupation'].isna()==True) & (adult_data['workclass'].isna()==False)]"
   ]
  },
  {
   "cell_type": "markdown",
   "id": "46b82368",
   "metadata": {},
   "source": [
    "去除缺失值"
   ]
  },
  {
   "cell_type": "code",
   "execution_count": 19,
   "id": "90dd9b56",
   "metadata": {},
   "outputs": [],
   "source": [
    "adult_data = adult_data.dropna()"
   ]
  },
  {
   "cell_type": "code",
   "execution_count": 20,
   "id": "104c075e",
   "metadata": {},
   "outputs": [
    {
     "data": {
      "text/plain": [
       "age               0\n",
       "workclass         0\n",
       "fnlwgt            0\n",
       "education-num     0\n",
       "marital-status    0\n",
       "occupation        0\n",
       "relationship      0\n",
       "race              0\n",
       "sex               0\n",
       "capital-gain      0\n",
       "capital-loss      0\n",
       "hours-per-week    0\n",
       "native-country    0\n",
       "year-income       0\n",
       "dtype: int64"
      ]
     },
     "execution_count": 20,
     "metadata": {},
     "output_type": "execute_result"
    }
   ],
   "source": [
    "missing_values_count = adult_data.isnull().sum()\n",
    "missing_values_count"
   ]
  },
  {
   "cell_type": "markdown",
   "id": "7436d876",
   "metadata": {},
   "source": [
    "### adult_test"
   ]
  },
  {
   "cell_type": "code",
   "execution_count": 21,
   "id": "572abd44",
   "metadata": {},
   "outputs": [],
   "source": [
    "adult_test = adult_test.replace(' ?',np.nan)"
   ]
  },
  {
   "cell_type": "code",
   "execution_count": 22,
   "id": "e6ccb1c1",
   "metadata": {},
   "outputs": [
    {
     "data": {
      "text/plain": [
       "<AxesSubplot:>"
      ]
     },
     "execution_count": 22,
     "metadata": {},
     "output_type": "execute_result"
    },
    {
     "data": {
      "image/png": "[encoded data removed]",
      "text/plain": [
       "<Figure size 720x360 with 2 Axes>"
      ]
     },
     "metadata": {
      "needs_background": "light"
     },
     "output_type": "display_data"
    }
   ],
   "source": [
    "msno.heatmap(adult_test,figsize=(10,5))"
   ]
  },
  {
   "cell_type": "code",
   "execution_count": 23,
   "id": "ad760d78",
   "metadata": {},
   "outputs": [
    {
     "data": {
      "text/plain": [
       "<AxesSubplot:>"
      ]
     },
     "execution_count": 23,
     "metadata": {},
     "output_type": "execute_result"
    },
    {
     "data": {
      "image/png": "[encoded data removed]",
      "text/plain": [
       "<Figure size 720x360 with 2 Axes>"
      ]
     },
     "metadata": {
      "needs_background": "light"
     },
     "output_type": "display_data"
    }
   ],
   "source": [
    "msno.matrix(adult_test,figsize=(10,5))"
   ]
  },
  {
   "cell_type": "code",
   "execution_count": 24,
   "id": "1b48fccd",
   "metadata": {},
   "outputs": [
    {
     "data": {
      "text/plain": [
       "age                 0\n",
       "workclass         963\n",
       "fnlwgt              0\n",
       "education-num       0\n",
       "marital-status      0\n",
       "occupation        966\n",
       "relationship        0\n",
       "race                0\n",
       "sex                 0\n",
       "capital-gain        0\n",
       "capital-loss        0\n",
       "hours-per-week      0\n",
       "native-country    274\n",
       "year-income         0\n",
       "dtype: int64"
      ]
     },
     "execution_count": 24,
     "metadata": {},
     "output_type": "execute_result"
    }
   ],
   "source": [
    "missing_values_count = adult_test.isnull().sum()\n",
    "missing_values_count"
   ]
  },
  {
   "cell_type": "code",
   "execution_count": 25,
   "id": "91b58bd4",
   "metadata": {},
   "outputs": [
    {
     "data": {
      "text/html": [
       "<div>\n",
       "<style scoped>\n",
       "    .dataframe tbody tr th:only-of-type {\n",
       "        vertical-align: middle;\n",
       "    }\n",
       "\n",
       "    .dataframe tbody tr th {\n",
       "        vertical-align: top;\n",
       "    }\n",
       "\n",
       "    .dataframe thead th {\n",
       "        text-align: right;\n",
       "    }\n",
       "</style>\n",
       "<table border=\"1\" class=\"dataframe\">\n",
       "  <thead>\n",
       "    <tr style=\"text-align: right;\">\n",
       "      <th></th>\n",
       "      <th>occupation</th>\n",
       "      <th>workclass</th>\n",
       "    </tr>\n",
       "  </thead>\n",
       "  <tbody>\n",
       "    <tr>\n",
       "      <th>8786</th>\n",
       "      <td>NaN</td>\n",
       "      <td>Never-worked</td>\n",
       "    </tr>\n",
       "    <tr>\n",
       "      <th>11608</th>\n",
       "      <td>NaN</td>\n",
       "      <td>Never-worked</td>\n",
       "    </tr>\n",
       "    <tr>\n",
       "      <th>13899</th>\n",
       "      <td>NaN</td>\n",
       "      <td>Never-worked</td>\n",
       "    </tr>\n",
       "  </tbody>\n",
       "</table>\n",
       "</div>"
      ],
      "text/plain": [
       "      occupation      workclass\n",
       "8786         NaN   Never-worked\n",
       "11608        NaN   Never-worked\n",
       "13899        NaN   Never-worked"
      ]
     },
     "execution_count": 25,
     "metadata": {},
     "output_type": "execute_result"
    }
   ],
   "source": [
    "adult_test[['occupation','workclass']][(adult_test['occupation'].isna()==True) & (adult_test['workclass'].isna()==False)]"
   ]
  },
  {
   "cell_type": "code",
   "execution_count": 26,
   "id": "f83dae16",
   "metadata": {},
   "outputs": [],
   "source": [
    "adult_test.loc[(adult_test['occupation'].isna()==True) & (adult_test['workclass'].isna()==False),'occupation'] = ' Never-worked'"
   ]
  },
  {
   "cell_type": "markdown",
   "id": "516ffcac",
   "metadata": {},
   "source": [
    "#### 使用众数填充缺失值"
   ]
  },
  {
   "cell_type": "code",
   "execution_count": 27,
   "id": "020e580b",
   "metadata": {},
   "outputs": [
    {
     "data": {
      "text/plain": [
       " Prof-specialty    2032\n",
       "Name: occupation, dtype: int64"
      ]
     },
     "execution_count": 27,
     "metadata": {},
     "output_type": "execute_result"
    }
   ],
   "source": [
    "adult_test['occupation'].value_counts().head(1)"
   ]
  },
  {
   "cell_type": "code",
   "execution_count": 28,
   "id": "159c8a9e",
   "metadata": {},
   "outputs": [
    {
     "data": {
      "text/plain": [
       " Private    11210\n",
       "Name: workclass, dtype: int64"
      ]
     },
     "execution_count": 28,
     "metadata": {},
     "output_type": "execute_result"
    }
   ],
   "source": [
    "adult_test['workclass'].value_counts().head(1)"
   ]
  },
  {
   "cell_type": "code",
   "execution_count": 29,
   "id": "5aa8124e",
   "metadata": {},
   "outputs": [
    {
     "data": {
      "text/plain": [
       " United-States    14662\n",
       "Name: native-country, dtype: int64"
      ]
     },
     "execution_count": 29,
     "metadata": {},
     "output_type": "execute_result"
    }
   ],
   "source": [
    "adult_test['native-country'].value_counts().head(1)"
   ]
  },
  {
   "cell_type": "code",
   "execution_count": 30,
   "id": "37c198d5",
   "metadata": {},
   "outputs": [],
   "source": [
    "adult_test['occupation'] = adult_test['occupation'].fillna(' Prof-specialty')\n",
    "adult_test['workclass'] = adult_test['workclass'].fillna(' Private')\n",
    "adult_test['native-country'] = adult_test['native-country'].fillna(' United-States')"
   ]
  },
  {
   "cell_type": "code",
   "execution_count": 31,
   "id": "d7f4f3c7",
   "metadata": {},
   "outputs": [
    {
     "data": {
      "text/plain": [
       "age               0\n",
       "workclass         0\n",
       "fnlwgt            0\n",
       "education-num     0\n",
       "marital-status    0\n",
       "occupation        0\n",
       "relationship      0\n",
       "race              0\n",
       "sex               0\n",
       "capital-gain      0\n",
       "capital-loss      0\n",
       "hours-per-week    0\n",
       "native-country    0\n",
       "year-income       0\n",
       "dtype: int64"
      ]
     },
     "execution_count": 31,
     "metadata": {},
     "output_type": "execute_result"
    }
   ],
   "source": [
    "missing_values_count = adult_test.isnull().sum()\n",
    "missing_values_count"
   ]
  },
  {
   "cell_type": "code",
   "execution_count": 32,
   "id": "502cc9a5",
   "metadata": {},
   "outputs": [
    {
     "data": {
      "text/plain": [
       "age                object\n",
       "workclass          object\n",
       "fnlwgt            float64\n",
       "education-num     float64\n",
       "marital-status     object\n",
       "occupation         object\n",
       "relationship       object\n",
       "race               object\n",
       "sex                object\n",
       "capital-gain      float64\n",
       "capital-loss      float64\n",
       "hours-per-week    float64\n",
       "native-country     object\n",
       "year-income        object\n",
       "dtype: object"
      ]
     },
     "execution_count": 32,
     "metadata": {},
     "output_type": "execute_result"
    }
   ],
   "source": [
    "adult_test.dtypes"
   ]
  },
  {
   "cell_type": "code",
   "execution_count": 33,
   "id": "0fc02d75",
   "metadata": {},
   "outputs": [
    {
     "data": {
      "text/html": [
       "<div>\n",
       "<style scoped>\n",
       "    .dataframe tbody tr th:only-of-type {\n",
       "        vertical-align: middle;\n",
       "    }\n",
       "\n",
       "    .dataframe tbody tr th {\n",
       "        vertical-align: top;\n",
       "    }\n",
       "\n",
       "    .dataframe thead th {\n",
       "        text-align: right;\n",
       "    }\n",
       "</style>\n",
       "<table border=\"1\" class=\"dataframe\">\n",
       "  <thead>\n",
       "    <tr style=\"text-align: right;\">\n",
       "      <th></th>\n",
       "      <th>age</th>\n",
       "      <th>workclass</th>\n",
       "      <th>fnlwgt</th>\n",
       "      <th>education-num</th>\n",
       "      <th>marital-status</th>\n",
       "      <th>occupation</th>\n",
       "      <th>relationship</th>\n",
       "      <th>race</th>\n",
       "      <th>sex</th>\n",
       "      <th>capital-gain</th>\n",
       "      <th>capital-loss</th>\n",
       "      <th>hours-per-week</th>\n",
       "      <th>native-country</th>\n",
       "      <th>year-income</th>\n",
       "    </tr>\n",
       "  </thead>\n",
       "  <tbody>\n",
       "    <tr>\n",
       "      <th>1</th>\n",
       "      <td>25</td>\n",
       "      <td>Private</td>\n",
       "      <td>226802.0</td>\n",
       "      <td>7.0</td>\n",
       "      <td>Never-married</td>\n",
       "      <td>Machine-op-inspct</td>\n",
       "      <td>Own-child</td>\n",
       "      <td>Black</td>\n",
       "      <td>Male</td>\n",
       "      <td>0.0</td>\n",
       "      <td>0.0</td>\n",
       "      <td>40.0</td>\n",
       "      <td>United-States</td>\n",
       "      <td>&lt;=50K.</td>\n",
       "    </tr>\n",
       "    <tr>\n",
       "      <th>2</th>\n",
       "      <td>38</td>\n",
       "      <td>Private</td>\n",
       "      <td>89814.0</td>\n",
       "      <td>9.0</td>\n",
       "      <td>Married-civ-spouse</td>\n",
       "      <td>Farming-fishing</td>\n",
       "      <td>Husband</td>\n",
       "      <td>White</td>\n",
       "      <td>Male</td>\n",
       "      <td>0.0</td>\n",
       "      <td>0.0</td>\n",
       "      <td>50.0</td>\n",
       "      <td>United-States</td>\n",
       "      <td>&lt;=50K.</td>\n",
       "    </tr>\n",
       "    <tr>\n",
       "      <th>3</th>\n",
       "      <td>28</td>\n",
       "      <td>Local-gov</td>\n",
       "      <td>336951.0</td>\n",
       "      <td>12.0</td>\n",
       "      <td>Married-civ-spouse</td>\n",
       "      <td>Protective-serv</td>\n",
       "      <td>Husband</td>\n",
       "      <td>White</td>\n",
       "      <td>Male</td>\n",
       "      <td>0.0</td>\n",
       "      <td>0.0</td>\n",
       "      <td>40.0</td>\n",
       "      <td>United-States</td>\n",
       "      <td>&gt;50K.</td>\n",
       "    </tr>\n",
       "    <tr>\n",
       "      <th>4</th>\n",
       "      <td>44</td>\n",
       "      <td>Private</td>\n",
       "      <td>160323.0</td>\n",
       "      <td>10.0</td>\n",
       "      <td>Married-civ-spouse</td>\n",
       "      <td>Machine-op-inspct</td>\n",
       "      <td>Husband</td>\n",
       "      <td>Black</td>\n",
       "      <td>Male</td>\n",
       "      <td>7688.0</td>\n",
       "      <td>0.0</td>\n",
       "      <td>40.0</td>\n",
       "      <td>United-States</td>\n",
       "      <td>&gt;50K.</td>\n",
       "    </tr>\n",
       "    <tr>\n",
       "      <th>5</th>\n",
       "      <td>18</td>\n",
       "      <td>Private</td>\n",
       "      <td>103497.0</td>\n",
       "      <td>10.0</td>\n",
       "      <td>Never-married</td>\n",
       "      <td>Prof-specialty</td>\n",
       "      <td>Own-child</td>\n",
       "      <td>White</td>\n",
       "      <td>Female</td>\n",
       "      <td>0.0</td>\n",
       "      <td>0.0</td>\n",
       "      <td>30.0</td>\n",
       "      <td>United-States</td>\n",
       "      <td>&lt;=50K.</td>\n",
       "    </tr>\n",
       "  </tbody>\n",
       "</table>\n",
       "</div>"
      ],
      "text/plain": [
       "  age   workclass    fnlwgt  education-num       marital-status  \\\n",
       "1  25     Private  226802.0            7.0        Never-married   \n",
       "2  38     Private   89814.0            9.0   Married-civ-spouse   \n",
       "3  28   Local-gov  336951.0           12.0   Married-civ-spouse   \n",
       "4  44     Private  160323.0           10.0   Married-civ-spouse   \n",
       "5  18     Private  103497.0           10.0        Never-married   \n",
       "\n",
       "           occupation relationship    race      sex  capital-gain  \\\n",
       "1   Machine-op-inspct    Own-child   Black     Male           0.0   \n",
       "2     Farming-fishing      Husband   White     Male           0.0   \n",
       "3     Protective-serv      Husband   White     Male           0.0   \n",
       "4   Machine-op-inspct      Husband   Black     Male        7688.0   \n",
       "5      Prof-specialty    Own-child   White   Female           0.0   \n",
       "\n",
       "   capital-loss  hours-per-week  native-country year-income  \n",
       "1           0.0            40.0   United-States      <=50K.  \n",
       "2           0.0            50.0   United-States      <=50K.  \n",
       "3           0.0            40.0   United-States       >50K.  \n",
       "4           0.0            40.0   United-States       >50K.  \n",
       "5           0.0            30.0   United-States      <=50K.  "
      ]
     },
     "execution_count": 33,
     "metadata": {},
     "output_type": "execute_result"
    }
   ],
   "source": [
    "adult_test.head()"
   ]
  },
  {
   "cell_type": "markdown",
   "id": "8eb0b917",
   "metadata": {},
   "source": [
    "### 获取x y"
   ]
  },
  {
   "cell_type": "code",
   "execution_count": 34,
   "id": "c005724d",
   "metadata": {},
   "outputs": [],
   "source": [
    "x = adult_data.drop(['year-income'],axis=1)\n",
    "y = pd.get_dummies(adult_data.iloc[:,-1])[' <=50K']"
   ]
  },
  {
   "cell_type": "code",
   "execution_count": 35,
   "id": "b2188b27",
   "metadata": {},
   "outputs": [],
   "source": [
    "x_test_pre = adult_test.drop(['year-income'],axis=1)\n",
    "y_test = pd.get_dummies(adult_test.iloc[:,-1])[' <=50K.']"
   ]
  },
  {
   "cell_type": "markdown",
   "id": "a9627be9",
   "metadata": {},
   "source": [
    "### 分类型数据编码"
   ]
  },
  {
   "cell_type": "code",
   "execution_count": 36,
   "id": "998d66df",
   "metadata": {},
   "outputs": [],
   "source": [
    "t = [\n",
    "    ('ord',OrdinalEncoder(),[1,4,5,12]),\n",
    "    ('onehot',OneHotEncoder(),[6,7,8]),\n",
    "]\n",
    "coltrans = ColumnTransformer(t,remainder='passthrough')"
   ]
  },
  {
   "cell_type": "code",
   "execution_count": 37,
   "id": "ba6c83d4",
   "metadata": {},
   "outputs": [
    {
     "data": {
      "text/plain": [
       "(30169, 23)"
      ]
     },
     "execution_count": 37,
     "metadata": {},
     "output_type": "execute_result"
    }
   ],
   "source": [
    "coltrans.fit_transform(x).shape"
   ]
  },
  {
   "cell_type": "code",
   "execution_count": 38,
   "id": "db56a9a7",
   "metadata": {},
   "outputs": [],
   "source": [
    "x_ec1 = coltrans.fit_transform(x)"
   ]
  },
  {
   "cell_type": "code",
   "execution_count": 39,
   "id": "29f1b3ee",
   "metadata": {},
   "outputs": [],
   "source": [
    "x_test = coltrans.fit_transform(x_test_pre)"
   ]
  },
  {
   "cell_type": "code",
   "execution_count": 40,
   "id": "427d675b",
   "metadata": {},
   "outputs": [
    {
     "data": {
      "text/plain": [
       "(30169, 23)"
      ]
     },
     "execution_count": 40,
     "metadata": {},
     "output_type": "execute_result"
    }
   ],
   "source": [
    "x_ec1.shape"
   ]
  },
  {
   "cell_type": "code",
   "execution_count": 41,
   "id": "5067e745",
   "metadata": {},
   "outputs": [
    {
     "data": {
      "text/plain": [
       "(16281, 23)"
      ]
     },
     "execution_count": 41,
     "metadata": {},
     "output_type": "execute_result"
    }
   ],
   "source": [
    "x_test.shape"
   ]
  },
  {
   "cell_type": "markdown",
   "id": "2ccb0efa",
   "metadata": {},
   "source": [
    "### 划分数据集"
   ]
  },
  {
   "cell_type": "code",
   "execution_count": 42,
   "id": "5488b964",
   "metadata": {},
   "outputs": [],
   "source": [
    "x_train,x_valid,y_train,y_valid = train_test_split(x_ec1,y,stratify=y,train_size=0.5,random_state=0)"
   ]
  },
  {
   "cell_type": "markdown",
   "id": "51dde8eb",
   "metadata": {},
   "source": [
    "## 分类学习器"
   ]
  },
  {
   "cell_type": "markdown",
   "id": "62500c02",
   "metadata": {},
   "source": [
    "### 逻辑回归"
   ]
  },
  {
   "cell_type": "code",
   "execution_count": 43,
   "id": "163804ae",
   "metadata": {},
   "outputs": [],
   "source": [
    "from sklearn.linear_model import LogisticRegression"
   ]
  },
  {
   "cell_type": "code",
   "execution_count": 44,
   "id": "ee1326bb",
   "metadata": {},
   "outputs": [],
   "source": [
    "lr_pipe = Pipeline([\n",
    "        ('std_scaler',StandardScaler()),\n",
    "        ('log_reg',LogisticRegression(max_iter=5000))\n",
    "    ])"
   ]
  },
  {
   "cell_type": "code",
   "execution_count": 45,
   "id": "64a8fa82",
   "metadata": {},
   "outputs": [],
   "source": [
    "param_grid_lr = [\n",
    "    {'log_reg__penalty':['l1'],\n",
    "     'log_reg__solver':['liblinear'],\n",
    "     'log_reg__C':np.linspace(0.1,2,4)\n",
    "    },\n",
    "    {'log_reg__penalty':['l2'],\n",
    "     'log_reg__solver':['liblinear','newton-cg','sag','lbfgs'],\n",
    "     'log_reg__C':np.linspace(0.1,2,4)\n",
    "    }\n",
    "]\n",
    "\n",
    "lr_gs = GridSearchCV(lr_pipe,param_grid_lr,refit=True,cv=5,n_jobs=-1,scoring='f1_weighted')"
   ]
  },
  {
   "cell_type": "code",
   "execution_count": 46,
   "id": "fac6a6c8",
   "metadata": {},
   "outputs": [
    {
     "name": "stdout",
     "output_type": "stream",
     "text": [
      "验证参数：\n",
      " {'log_reg__C': 1.3666666666666667, 'log_reg__penalty': 'l2', 'log_reg__solver': 'liblinear'}\n"
     ]
    }
   ],
   "source": [
    "lr_gs.fit(x_train,y_train)\n",
    "print('验证参数：\\n',lr_gs.best_params_)"
   ]
  },
  {
   "cell_type": "code",
   "execution_count": 47,
   "id": "29399f8b",
   "metadata": {},
   "outputs": [
    {
     "name": "stdout",
     "output_type": "stream",
     "text": [
      "验证参数：\n",
      " 0.8351714248643394\n"
     ]
    }
   ],
   "source": [
    "print('验证参数：\\n',lr_gs.best_score_)"
   ]
  },
  {
   "cell_type": "code",
   "execution_count": 48,
   "id": "1e4e2504",
   "metadata": {},
   "outputs": [],
   "source": [
    "lr_pipe_best = Pipeline([\n",
    "        ('std_scaler',StandardScaler()),\n",
    "        ('log_reg',LogisticRegression(C=1.37,penalty='l2',solver='liblinear'))\n",
    "    ])"
   ]
  },
  {
   "cell_type": "code",
   "execution_count": 49,
   "id": "2ed766f3",
   "metadata": {},
   "outputs": [
    {
     "data": {
      "text/plain": [
       "Pipeline(steps=[('std_scaler', StandardScaler()),\n",
       "                ('log_reg', LogisticRegression(C=1.37, solver='liblinear'))])"
      ]
     },
     "execution_count": 49,
     "metadata": {},
     "output_type": "execute_result"
    }
   ],
   "source": [
    "lr_pipe_best.fit(x_valid,y_valid)"
   ]
  },
  {
   "cell_type": "code",
   "execution_count": 50,
   "id": "43a38cb3",
   "metadata": {},
   "outputs": [
    {
     "name": "stdout",
     "output_type": "stream",
     "text": [
      "accuracy:  0.8397746105402718 \n",
      "F1_score:  0.833182444220468\n"
     ]
    }
   ],
   "source": [
    "ls_acc_score = accuracy_score(y_valid,lr_pipe_best.predict(x_valid))\n",
    "ls_f1_score = f1_score(y_valid,lr_pipe_best.predict(x_valid),average='weighted')\n",
    "print('accuracy: ',ls_acc_score,'\\nF1_score: ',ls_f1_score)"
   ]
  },
  {
   "cell_type": "markdown",
   "id": "212b5ddd",
   "metadata": {},
   "source": [
    "test预测得分"
   ]
  },
  {
   "cell_type": "code",
   "execution_count": 51,
   "id": "0327ce8b",
   "metadata": {},
   "outputs": [
    {
     "name": "stdout",
     "output_type": "stream",
     "text": [
      "Test accuracy:  0.8422701308273448 \n",
      "Test F1_score:  0.8358849883838676\n"
     ]
    }
   ],
   "source": [
    "ls_tacc_score = accuracy_score(y_test,lr_pipe_best.predict(x_test))\n",
    "ls_tf1_score = f1_score(y_test,lr_pipe_best.predict(x_test),average='weighted')\n",
    "print('Test accuracy: ',ls_tacc_score,'\\nTest F1_score: ',ls_tf1_score)"
   ]
  },
  {
   "cell_type": "markdown",
   "id": "1b45090b",
   "metadata": {},
   "source": [
    "### SVM"
   ]
  },
  {
   "cell_type": "code",
   "execution_count": 52,
   "id": "215eca32",
   "metadata": {},
   "outputs": [],
   "source": [
    "from sklearn.svm import SVC"
   ]
  },
  {
   "cell_type": "code",
   "execution_count": 53,
   "id": "9526cf40",
   "metadata": {},
   "outputs": [],
   "source": [
    "svm_pipe = Pipeline([\n",
    "    ('std_scaler',StandardScaler()),\n",
    "    ('svc',SVC())\n",
    "])"
   ]
  },
  {
   "cell_type": "code",
   "execution_count": 56,
   "id": "78adbfb4",
   "metadata": {},
   "outputs": [],
   "source": [
    "param_grid_svc = [\n",
    "    {\n",
    "        'svc__C':list(range(15,20)),\n",
    "        'svc__kernel':['poly'],\n",
    "        'svc__degree':[1,2,3]},\n",
    "    {\n",
    "        'svc__C':list(range(15,20)),\n",
    "        'svc__kernel':['rbf'],\n",
    "        'svc__gamma':range(1,4)}\n",
    "]\n",
    "svc_gs = GridSearchCV(svm_pipe,param_grid_svc,verbose=2,refit=True,cv=5,n_jobs=-1,scoring='f1_weighted')"
   ]
  },
  {
   "cell_type": "code",
   "execution_count": 57,
   "id": "14c9b12a",
   "metadata": {},
   "outputs": [
    {
     "name": "stdout",
     "output_type": "stream",
     "text": [
      "Fitting 5 folds for each of 30 candidates, totalling 150 fits\n",
      "验证参数：\n",
      " {'svc__C': 18, 'svc__degree': 2, 'svc__kernel': 'poly'}\n"
     ]
    }
   ],
   "source": [
    "svc_gs.fit(x_train,y_train)\n",
    "print('验证参数：\\n',svc_gs.best_params_)"
   ]
  },
  {
   "cell_type": "code",
   "execution_count": 58,
   "id": "a89ca004",
   "metadata": {},
   "outputs": [],
   "source": [
    "svm_pipe_best = Pipeline([\n",
    "    ('onehot',OneHotEncoder(handle_unknown='ignore')),\n",
    "    ('std_scaler',StandardScaler(with_mean=False)),\n",
    "    ('svc',SVC(C=18,kernel='poly',degree=2))\n",
    "])"
   ]
  },
  {
   "cell_type": "code",
   "execution_count": 59,
   "id": "20838f40",
   "metadata": {},
   "outputs": [
    {
     "data": {
      "text/plain": [
       "Pipeline(steps=[('onehot', OneHotEncoder(handle_unknown='ignore')),\n",
       "                ('std_scaler', StandardScaler(with_mean=False)),\n",
       "                ('svc', SVC(C=18, degree=2, kernel='poly'))])"
      ]
     },
     "execution_count": 59,
     "metadata": {},
     "output_type": "execute_result"
    }
   ],
   "source": [
    "svm_pipe_best.fit(x_valid,y_valid)"
   ]
  },
  {
   "cell_type": "code",
   "execution_count": 60,
   "id": "733b7f90",
   "metadata": {},
   "outputs": [
    {
     "name": "stdout",
     "output_type": "stream",
     "text": [
      "accuracy:  0.9736161750082863 \n",
      "F1_score:  0.9733422015155414\n"
     ]
    }
   ],
   "source": [
    "svm_acc_score = accuracy_score(y_valid,svm_pipe_best.predict(x_valid))\n",
    "svm_f1_score = f1_score(y_valid,svm_pipe_best.predict(x_valid),average='weighted')\n",
    "print('accuracy: ',svm_acc_score,'\\nF1_score: ',svm_f1_score)"
   ]
  },
  {
   "cell_type": "code",
   "execution_count": 61,
   "id": "29c3207a",
   "metadata": {},
   "outputs": [
    {
     "name": "stdout",
     "output_type": "stream",
     "text": [
      "Test accuracy:  0.8083655795098581 \n",
      "Test F1_score:  0.7870363480009155\n"
     ]
    }
   ],
   "source": [
    "svm_tacc_score = accuracy_score(y_test,svm_pipe_best.predict(x_test))\n",
    "svm_tf1_score = f1_score(y_test,svm_pipe_best.predict(x_test),average='weighted')\n",
    "print('Test accuracy: ',svm_tacc_score,'\\nTest F1_score: ',svm_tf1_score)"
   ]
  },
  {
   "cell_type": "markdown",
   "id": "164ba429",
   "metadata": {},
   "source": [
    "### KNN"
   ]
  },
  {
   "cell_type": "code",
   "execution_count": 62,
   "id": "cb9eb82f",
   "metadata": {},
   "outputs": [],
   "source": [
    "from sklearn.neighbors import KNeighborsClassifier"
   ]
  },
  {
   "cell_type": "code",
   "execution_count": 63,
   "id": "55fce9c0",
   "metadata": {},
   "outputs": [],
   "source": [
    "knn_pipe = Pipeline([\n",
    "    ('std_scaler',StandardScaler(with_mean=False)),\n",
    "    ('knn',KNeighborsClassifier(algorithm='brute'))\n",
    "])"
   ]
  },
  {
   "cell_type": "code",
   "execution_count": 64,
   "id": "abd1c0e0",
   "metadata": {},
   "outputs": [],
   "source": [
    "param_grid_knn = {\n",
    "    'knn__weights':['uniform'],\n",
    "    'knn__n_neighbors':list(range(13,16))\n",
    "}\n",
    "\n",
    "knn_gs = GridSearchCV(knn_pipe,param_grid_knn,verbose=2,refit=True,cv=5,n_jobs=-1,scoring='f1_weighted')"
   ]
  },
  {
   "cell_type": "code",
   "execution_count": 65,
   "id": "ba6eea65",
   "metadata": {},
   "outputs": [
    {
     "name": "stdout",
     "output_type": "stream",
     "text": [
      "Fitting 5 folds for each of 3 candidates, totalling 15 fits\n",
      "验证参数：\n",
      " {'knn__n_neighbors': 14, 'knn__weights': 'uniform'}\n"
     ]
    }
   ],
   "source": [
    "knn_gs.fit(x_train,y_train)\n",
    "print('验证参数：\\n',knn_gs.best_params_)"
   ]
  },
  {
   "cell_type": "code",
   "execution_count": 66,
   "id": "d5a288b6",
   "metadata": {},
   "outputs": [],
   "source": [
    "knn_pipe_best = Pipeline([\n",
    "    ('std_scaler',StandardScaler(with_mean=False)),\n",
    "    ('knn',KNeighborsClassifier(n_neighbors=14, weights='uniform',algorithm='brute'))\n",
    "])"
   ]
  },
  {
   "cell_type": "code",
   "execution_count": 67,
   "id": "c2f8041c",
   "metadata": {},
   "outputs": [
    {
     "data": {
      "text/plain": [
       "Pipeline(steps=[('std_scaler', StandardScaler(with_mean=False)),\n",
       "                ('knn',\n",
       "                 KNeighborsClassifier(algorithm='brute', n_neighbors=14))])"
      ]
     },
     "execution_count": 67,
     "metadata": {},
     "output_type": "execute_result"
    }
   ],
   "source": [
    "knn_pipe_best.fit(x_valid,y_valid)"
   ]
  },
  {
   "cell_type": "code",
   "execution_count": 68,
   "id": "fa641b90",
   "metadata": {},
   "outputs": [
    {
     "name": "stdout",
     "output_type": "stream",
     "text": [
      "accuracy:  0.8456082200861783 \n",
      "F1_score:  0.8422978165823761\n"
     ]
    }
   ],
   "source": [
    "knn_acc_score = accuracy_score(y_valid,knn_pipe_best.predict(x_valid))\n",
    "knn_f1_score = f1_score(y_valid,knn_pipe_best.predict(x_valid),average='weighted')\n",
    "print('accuracy: ',knn_acc_score,'\\nF1_score: ',knn_f1_score)"
   ]
  },
  {
   "cell_type": "code",
   "execution_count": 69,
   "id": "53cbf267",
   "metadata": {},
   "outputs": [
    {
     "name": "stdout",
     "output_type": "stream",
     "text": [
      "Test accuracy:  0.8331183588231681 \n",
      "Test F1_score:  0.8301163392624511\n"
     ]
    }
   ],
   "source": [
    "knn_tacc_score = accuracy_score(y_test,knn_pipe_best.predict(x_test))\n",
    "knn_tf1_score = f1_score(y_test,knn_pipe_best.predict(x_test),average='weighted')\n",
    "print('Test accuracy: ',knn_tacc_score,'\\nTest F1_score: ',knn_tf1_score)"
   ]
  },
  {
   "cell_type": "markdown",
   "id": "7a885a20",
   "metadata": {},
   "source": [
    "### 决策树"
   ]
  },
  {
   "cell_type": "code",
   "execution_count": 70,
   "id": "8ff78580",
   "metadata": {},
   "outputs": [],
   "source": [
    "from sklearn.tree import DecisionTreeClassifier,export_graphviz"
   ]
  },
  {
   "cell_type": "code",
   "execution_count": 77,
   "id": "66858100",
   "metadata": {},
   "outputs": [],
   "source": [
    "dtc_pipe = Pipeline([\n",
    "    ('dtc',DecisionTreeClassifier(random_state=0))\n",
    "])"
   ]
  },
  {
   "cell_type": "code",
   "execution_count": 78,
   "id": "bcf49a1a",
   "metadata": {},
   "outputs": [],
   "source": [
    "dtc_params = {\n",
    "    'dtc__criterion':['gini','entropy'],\n",
    "    'dtc__max_depth':[5,6,7,8],\n",
    "    'dtc__min_samples_leaf':[1,2,3],\n",
    "    'dtc__class_weight':['balanced']\n",
    "}\n",
    "dtc_gs = GridSearchCV(dtc_pipe,dtc_params,cv=5,n_jobs=-1,scoring='f1_weighted')"
   ]
  },
  {
   "cell_type": "code",
   "execution_count": 79,
   "id": "31ac6875",
   "metadata": {},
   "outputs": [
    {
     "name": "stdout",
     "output_type": "stream",
     "text": [
      "验证参数：\n",
      " {'dtc__class_weight': 'balanced', 'dtc__criterion': 'gini', 'dtc__max_depth': 7, 'dtc__min_samples_leaf': 1}\n"
     ]
    }
   ],
   "source": [
    "dtc_gs.fit(x_train,y_train)\n",
    "print('验证参数：\\n',dtc_gs.best_params_)"
   ]
  },
  {
   "cell_type": "code",
   "execution_count": 80,
   "id": "692522c0",
   "metadata": {},
   "outputs": [
    {
     "name": "stdout",
     "output_type": "stream",
     "text": [
      "train best score：  0.8112655421946346\n"
     ]
    }
   ],
   "source": [
    "print('train best score： ',dtc_gs.best_score_)"
   ]
  },
  {
   "cell_type": "code",
   "execution_count": 81,
   "id": "fde5d8c8",
   "metadata": {},
   "outputs": [],
   "source": [
    "dtc_pipe_std = Pipeline([\n",
    "    ('std_scaler',StandardScaler()),\n",
    "    ('dtc',DecisionTreeClassifier(random_state=0))\n",
    "])"
   ]
  },
  {
   "cell_type": "code",
   "execution_count": 83,
   "id": "92c84a42",
   "metadata": {},
   "outputs": [],
   "source": [
    "dtc_params_std = {\n",
    "    'dtc__criterion':['gini','entropy'],\n",
    "    'dtc__max_depth':[5,6,7,8],\n",
    "    'dtc__min_samples_leaf':[1,2,3],\n",
    "    'dtc__class_weight':['balanced']\n",
    "}\n",
    "dtc_gs_std = GridSearchCV(dtc_pipe_std,dtc_params_oh,cv=5,n_jobs=-1,scoring='f1_weighted')"
   ]
  },
  {
   "cell_type": "code",
   "execution_count": 84,
   "id": "56bbf973",
   "metadata": {},
   "outputs": [
    {
     "name": "stdout",
     "output_type": "stream",
     "text": [
      "验证参数：\n",
      " {'dtc__class_weight': 'balanced', 'dtc__criterion': 'gini', 'dtc__max_depth': 7, 'dtc__min_samples_leaf': 1}\n"
     ]
    }
   ],
   "source": [
    "dtc_gs_std.fit(x_train,y_train)\n",
    "print('验证参数：\\n',dtc_gs_std.best_params_)"
   ]
  },
  {
   "cell_type": "code",
   "execution_count": 86,
   "id": "890b9fea",
   "metadata": {},
   "outputs": [
    {
     "name": "stdout",
     "output_type": "stream",
     "text": [
      "train best score：  0.8112655421946346\n"
     ]
    }
   ],
   "source": [
    "print('train best score： ',dtc_gs_std.best_score_)"
   ]
  },
  {
   "cell_type": "code",
   "execution_count": 87,
   "id": "da3a034a",
   "metadata": {},
   "outputs": [],
   "source": [
    "dtc_pipe_best = Pipeline([\n",
    "    ('dtc',DecisionTreeClassifier(\n",
    "        random_state=0,class_weight='balanced',criterion='gini',\n",
    "        max_depth=7,min_samples_leaf=1\n",
    "    ))\n",
    "])"
   ]
  },
  {
   "cell_type": "code",
   "execution_count": 88,
   "id": "741ae9fc",
   "metadata": {},
   "outputs": [
    {
     "data": {
      "text/plain": [
       "Pipeline(steps=[('dtc',\n",
       "                 DecisionTreeClassifier(class_weight='balanced', max_depth=7,\n",
       "                                        random_state=0))])"
      ]
     },
     "execution_count": 88,
     "metadata": {},
     "output_type": "execute_result"
    }
   ],
   "source": [
    "dtc_pipe_best.fit(x_valid,y_valid)"
   ]
  },
  {
   "cell_type": "code",
   "execution_count": 89,
   "id": "a8317444",
   "metadata": {},
   "outputs": [
    {
     "name": "stdout",
     "output_type": "stream",
     "text": [
      "accuracy:  0.7992045077891946 \n",
      "F1_score:  0.810795782424356\n"
     ]
    }
   ],
   "source": [
    "dtc_acc_score = accuracy_score(y_valid,dtc_pipe_best.predict(x_valid))\n",
    "dtc_f1_score = f1_score(y_valid,dtc_pipe_best.predict(x_valid),average='weighted')\n",
    "print('accuracy: ',dtc_acc_score,'\\nF1_score: ',dtc_f1_score)"
   ]
  },
  {
   "cell_type": "code",
   "execution_count": 90,
   "id": "441fc064",
   "metadata": {},
   "outputs": [
    {
     "name": "stdout",
     "output_type": "stream",
     "text": [
      "Test accuracy:  0.7958970579202752 \n",
      "Test F1_score:  0.808354750301648\n"
     ]
    }
   ],
   "source": [
    "dtc_tacc_score = accuracy_score(y_test,dtc_pipe_best.predict(x_test))\n",
    "dtc_tf1_score = f1_score(y_test,dtc_pipe_best.predict(x_test),average='weighted')\n",
    "print('Test accuracy: ',dtc_tacc_score,'\\nTest F1_score: ',dtc_tf1_score)"
   ]
  },
  {
   "cell_type": "markdown",
   "id": "2a88f518",
   "metadata": {},
   "source": [
    "### 随机森林"
   ]
  },
  {
   "cell_type": "code",
   "execution_count": 91,
   "id": "8e68ba3c",
   "metadata": {},
   "outputs": [],
   "source": [
    "from sklearn.ensemble import RandomForestClassifier"
   ]
  },
  {
   "cell_type": "code",
   "execution_count": 92,
   "id": "eae82c67",
   "metadata": {},
   "outputs": [],
   "source": [
    "rf_pipe = Pipeline([\n",
    "    ('rf',RandomForestClassifier(random_state=2022))\n",
    "])"
   ]
  },
  {
   "cell_type": "code",
   "execution_count": 96,
   "id": "ec767982",
   "metadata": {},
   "outputs": [],
   "source": [
    "rf_params = {\n",
    "              'rf__n_estimators':[156,158,160],\n",
    "              'rf__max_depth':[18,20,22],\n",
    "              'rf__min_samples_leaf':[1,2],\n",
    "              'rf__min_samples_split':[8,10,12,14],\n",
    "              'rf__criterion':['gini']\n",
    "             }\n",
    "rf_gs = GridSearchCV(rf_pipe,rf_params,cv=5,n_jobs=-1,scoring='f1_weighted')"
   ]
  },
  {
   "cell_type": "code",
   "execution_count": 97,
   "id": "f8c75175",
   "metadata": {},
   "outputs": [
    {
     "name": "stdout",
     "output_type": "stream",
     "text": [
      "验证参数：\n",
      " {'rf__criterion': 'gini', 'rf__max_depth': 20, 'rf__min_samples_leaf': 1, 'rf__min_samples_split': 10, 'rf__n_estimators': 160}\n"
     ]
    }
   ],
   "source": [
    "rf_gs.fit(x_train,y_train.ravel())\n",
    "print('验证参数：\\n',rf_gs.best_params_)"
   ]
  },
  {
   "cell_type": "code",
   "execution_count": 98,
   "id": "d69f5aca",
   "metadata": {},
   "outputs": [
    {
     "name": "stdout",
     "output_type": "stream",
     "text": [
      "f1_score： 0.857564899897391\n"
     ]
    }
   ],
   "source": [
    "print('f1_score：',rf_gs.best_score_)"
   ]
  },
  {
   "cell_type": "code",
   "execution_count": 99,
   "id": "d5ead26e",
   "metadata": {},
   "outputs": [],
   "source": [
    "rf_pipe_best = Pipeline([\n",
    "    ('ord',OrdinalEncoder(handle_unknown='use_encoded_value',unknown_value=-1)),\n",
    "    ('rf',RandomForestClassifier(random_state=0,n_estimators=160,criterion='gini',max_depth=20,\n",
    "                                 max_features='auto',min_samples_leaf=1,min_samples_split=10))\n",
    "])"
   ]
  },
  {
   "cell_type": "code",
   "execution_count": 100,
   "id": "ff26a52a",
   "metadata": {},
   "outputs": [
    {
     "data": {
      "text/plain": [
       "Pipeline(steps=[('ord',\n",
       "                 OrdinalEncoder(handle_unknown='use_encoded_value',\n",
       "                                unknown_value=-1)),\n",
       "                ('rf',\n",
       "                 RandomForestClassifier(max_depth=20, min_samples_split=10,\n",
       "                                        n_estimators=160, random_state=0))])"
      ]
     },
     "execution_count": 100,
     "metadata": {},
     "output_type": "execute_result"
    }
   ],
   "source": [
    "rf_pipe_best.fit(x_valid,y_valid.ravel())"
   ]
  },
  {
   "cell_type": "code",
   "execution_count": 101,
   "id": "c17736b4",
   "metadata": {},
   "outputs": [
    {
     "name": "stdout",
     "output_type": "stream",
     "text": [
      "accuracy:  0.9101756711965528 \n",
      "F1_score:  0.9066024311886012\n"
     ]
    }
   ],
   "source": [
    "rf_acc_score = accuracy_score(y_valid,rf_pipe_best.predict(x_valid))\n",
    "rf_f1_score = f1_score(y_valid,rf_pipe_best.predict(x_valid),average='weighted')\n",
    "print('accuracy: ',rf_acc_score,'\\nF1_score: ',rf_f1_score)"
   ]
  },
  {
   "cell_type": "code",
   "execution_count": 102,
   "id": "dc631a99",
   "metadata": {},
   "outputs": [
    {
     "name": "stdout",
     "output_type": "stream",
     "text": [
      "Test accuracy:  0.8282046557336773 \n",
      "Test F1_score:  0.7905120897446493\n"
     ]
    }
   ],
   "source": [
    "rf_tacc_score = accuracy_score(y_test,rf_pipe_best.predict(x_test))\n",
    "rf_tf1_score = f1_score(y_test,rf_pipe_best.predict(x_test),average='weighted')\n",
    "print('Test accuracy: ',rf_tacc_score,'\\nTest F1_score: ',rf_tf1_score)"
   ]
  },
  {
   "cell_type": "markdown",
   "id": "26a414bb",
   "metadata": {},
   "source": [
    "### XGBoost"
   ]
  },
  {
   "cell_type": "code",
   "execution_count": 47,
   "id": "0d1133b1",
   "metadata": {},
   "outputs": [],
   "source": [
    "from xgboost import XGBClassifier,plot_importance"
   ]
  },
  {
   "cell_type": "code",
   "execution_count": 45,
   "id": "cfc59d1f",
   "metadata": {},
   "outputs": [],
   "source": [
    "xgb = XGBClassifier()"
   ]
  },
  {
   "cell_type": "code",
   "execution_count": 50,
   "id": "2c4f33c9",
   "metadata": {},
   "outputs": [
    {
     "name": "stdout",
     "output_type": "stream",
     "text": [
      "[16:04:06] WARNING: C:/Users/Administrator/workspace/xgboost-win64_release_1.5.1/src/learner.cc:1115: Starting in XGBoost 1.3.0, the default evaluation metric used with the objective 'binary:logistic' was changed from 'error' to 'logloss'. Explicitly set eval_metric if you'd like to restore the old behavior.\n"
     ]
    },
    {
     "data": {
      "image/png": "[encoded data removed]",
      "text/plain": [
       "<Figure size 432x288 with 1 Axes>"
      ]
     },
     "metadata": {
      "needs_background": "light"
     },
     "output_type": "display_data"
    }
   ],
   "source": [
    "xgb.fit(x_train,y_train)\n",
    "plot_importance(xgb)\n",
    "plt.show()"
   ]
  },
  {
   "cell_type": "code",
   "execution_count": 64,
   "id": "2263a845",
   "metadata": {},
   "outputs": [],
   "source": [
    "param_grid = {\n",
    "    'booster':['gbtree'],\n",
    "    'gamma':[0.2],\n",
    "    'max_depth':[5,7,9],\n",
    "    'lambda':[1],\n",
    "    'learning_rate':[0.02,0.04,0.06,0.08,0.1]\n",
    "}\n",
    "xgb_gs = GridSearchCV(xgb, param_grid, scoring=\"f1_weighted\", n_jobs=-1, cv=5)"
   ]
  },
  {
   "cell_type": "code",
   "execution_count": 65,
   "id": "75913328",
   "metadata": {},
   "outputs": [
    {
     "name": "stderr",
     "output_type": "stream",
     "text": [
      "D:\\anaconda3\\envs\\tensorflow\\lib\\site-packages\\xgboost\\sklearn.py:1224: UserWarning: The use of label encoder in XGBClassifier is deprecated and will be removed in a future release. To remove this warning, do the following: 1) Pass option use_label_encoder=False when constructing XGBClassifier object; and 2) Encode your labels (y) as integers starting with 0, i.e. 0, 1, 2, ..., [num_class - 1].\n",
      "  warnings.warn(label_encoder_deprecation_msg, UserWarning)\n"
     ]
    },
    {
     "name": "stdout",
     "output_type": "stream",
     "text": [
      "[16:28:10] WARNING: C:/Users/Administrator/workspace/xgboost-win64_release_1.5.1/src/learner.cc:1115: Starting in XGBoost 1.3.0, the default evaluation metric used with the objective 'binary:logistic' was changed from 'error' to 'logloss'. Explicitly set eval_metric if you'd like to restore the old behavior.\n",
      "验证参数：\n",
      " {'booster': 'gbtree', 'gamma': 0.2, 'lambda': 1, 'learning_rate': 0.08, 'max_depth': 7}\n"
     ]
    }
   ],
   "source": [
    "xgb_gs.fit(x_train,y_train.ravel())\n",
    "print('验证参数：\\n',xgb_gs.best_params_)"
   ]
  },
  {
   "cell_type": "code",
   "execution_count": 66,
   "id": "200cb8b6",
   "metadata": {},
   "outputs": [
    {
     "name": "stdout",
     "output_type": "stream",
     "text": [
      "f1_score： 0.8683222807407235\n"
     ]
    }
   ],
   "source": [
    "print('f1_score：',xgb_gs.best_score_)"
   ]
  },
  {
   "cell_type": "code",
   "execution_count": 72,
   "id": "d2aca693",
   "metadata": {},
   "outputs": [],
   "source": [
    "xgb_best = XGBClassifier(\n",
    "    booster='gbtree',\n",
    "    gamma=0.2,\n",
    "    max_depth=7,\n",
    "    learning_rate=0.08\n",
    ")"
   ]
  },
  {
   "cell_type": "code",
   "execution_count": 73,
   "id": "b5c0f9ce",
   "metadata": {},
   "outputs": [
    {
     "name": "stdout",
     "output_type": "stream",
     "text": [
      "[16:32:10] WARNING: C:/Users/Administrator/workspace/xgboost-win64_release_1.5.1/src/learner.cc:1115: Starting in XGBoost 1.3.0, the default evaluation metric used with the objective 'binary:logistic' was changed from 'error' to 'logloss'. Explicitly set eval_metric if you'd like to restore the old behavior.\n"
     ]
    },
    {
     "data": {
      "text/plain": [
       "XGBClassifier(base_score=0.5, booster='gbtree', colsample_bylevel=1,\n",
       "              colsample_bynode=1, colsample_bytree=1, enable_categorical=False,\n",
       "              gamma=0.2, gpu_id=-1, importance_type=None,\n",
       "              interaction_constraints='', learning_rate=0.08, max_delta_step=0,\n",
       "              max_depth=7, min_child_weight=1, missing=nan,\n",
       "              monotone_constraints='()', n_estimators=100, n_jobs=8,\n",
       "              num_parallel_tree=1, predictor='auto', random_state=0,\n",
       "              reg_alpha=0, reg_lambda=1, scale_pos_weight=1, subsample=1,\n",
       "              tree_method='exact', validate_parameters=1, verbosity=None)"
      ]
     },
     "execution_count": 73,
     "metadata": {},
     "output_type": "execute_result"
    }
   ],
   "source": [
    "xgb_best.fit(x_valid,y_valid,)"
   ]
  },
  {
   "cell_type": "code",
   "execution_count": 75,
   "id": "d308598b",
   "metadata": {},
   "outputs": [
    {
     "name": "stdout",
     "output_type": "stream",
     "text": [
      "accuracy:  0.8896917467683129 \n",
      "F1_score:  0.8859238363217704\n"
     ]
    }
   ],
   "source": [
    "xgb_acc_score = accuracy_score(y_valid,xgb_best.predict(x_valid))\n",
    "xgb_f1_score = f1_score(y_valid,xgb_best.predict(x_valid),average='weighted')\n",
    "print('accuracy: ',xgb_acc_score,'\\nF1_score: ',xgb_f1_score)"
   ]
  },
  {
   "cell_type": "code",
   "execution_count": 78,
   "id": "2f263d9e",
   "metadata": {},
   "outputs": [
    {
     "name": "stdout",
     "output_type": "stream",
     "text": [
      "Test accuracy:  0.8697254468398747 \n",
      "Test F1_score:  0.8637446269772321\n"
     ]
    }
   ],
   "source": [
    "xgb_tacc_score = accuracy_score(y_test,xgb_best.predict(x_test))\n",
    "xgb_tf1_score = f1_score(y_test,xgb_best.predict(x_test),average='weighted')\n",
    "print('Test accuracy: ',xgb_tacc_score,'\\nTest F1_score: ',xgb_tf1_score)"
   ]
  },
  {
   "cell_type": "markdown",
   "id": "8aeba186",
   "metadata": {},
   "source": [
    "### LishtGBM"
   ]
  },
  {
   "cell_type": "code",
   "execution_count": 80,
   "id": "3ba9c7a9",
   "metadata": {},
   "outputs": [],
   "source": [
    "import lightgbm as lgb"
   ]
  },
  {
   "cell_type": "code",
   "execution_count": 103,
   "id": "cece7ed6",
   "metadata": {},
   "outputs": [],
   "source": [
    "parameters = {\n",
    "    'max_depth': [10,12,14],\n",
    "    'num_leaves': [60,70,80],\n",
    "    'learning_rate':[0.01],\n",
    "    'n_estimators':[80,90,100]\n",
    "}\n",
    "\n",
    "gbm = lgb.LGBMClassifier(objective = 'binary',\n",
    "                         boosting_type='gbdt',\n",
    "                         is_unbalance = True,\n",
    "                         min_child_samples=21,\n",
    "                         min_child_weight=0.001,\n",
    "                        )\n",
    "lgb_gs = GridSearchCV(gbm, param_grid=parameters, scoring='f1_weighted', cv=3)"
   ]
  },
  {
   "cell_type": "code",
   "execution_count": 104,
   "id": "e986603f",
   "metadata": {},
   "outputs": [
    {
     "name": "stdout",
     "output_type": "stream",
     "text": [
      "验证参数：\n",
      " {'learning_rate': 0.01, 'max_depth': 14, 'n_estimators': 80, 'num_leaves': 60}\n"
     ]
    }
   ],
   "source": [
    "lgb_gs.fit(x_train,y_train)\n",
    "print('验证参数：\\n',lgb_gs.best_params_)"
   ]
  },
  {
   "cell_type": "code",
   "execution_count": 105,
   "id": "7a916f25",
   "metadata": {},
   "outputs": [
    {
     "name": "stdout",
     "output_type": "stream",
     "text": [
      "验证得分：\n",
      " 0.8539450515959567\n"
     ]
    }
   ],
   "source": [
    "print('验证得分：\\n',lgb_gs.best_score_)"
   ]
  },
  {
   "cell_type": "code",
   "execution_count": 108,
   "id": "9285f11a",
   "metadata": {},
   "outputs": [],
   "source": [
    "lgb_best = lgb.LGBMClassifier(objective = 'binary',\n",
    "                         boosting_type='gbdt',\n",
    "                         is_unbalance = True,\n",
    "                         min_child_samples=21,\n",
    "                         min_child_weight=0.001,\n",
    "                         learning_rate=0.01, \n",
    "                         max_depth=14, \n",
    "                         n_estimators=80, \n",
    "                         num_leaves=60\n",
    "                        )"
   ]
  },
  {
   "cell_type": "code",
   "execution_count": 109,
   "id": "184162e7",
   "metadata": {},
   "outputs": [
    {
     "data": {
      "text/plain": [
       "LGBMClassifier(is_unbalance=True, learning_rate=0.01, max_depth=14,\n",
       "               min_child_samples=21, n_estimators=80, num_leaves=60,\n",
       "               objective='binary')"
      ]
     },
     "execution_count": 109,
     "metadata": {},
     "output_type": "execute_result"
    }
   ],
   "source": [
    "lgb_best.fit(x_valid,y_valid,)"
   ]
  },
  {
   "cell_type": "code",
   "execution_count": 110,
   "id": "e5c8d21f",
   "metadata": {},
   "outputs": [
    {
     "name": "stdout",
     "output_type": "stream",
     "text": [
      "accuracy:  0.8613854822671528 \n",
      "F1_score:  0.8589135676370917\n"
     ]
    }
   ],
   "source": [
    "lgb_acc_score = accuracy_score(y_valid,lgb_best.predict(x_valid))\n",
    "lgb_f1_score = f1_score(y_valid,lgb_best.predict(x_valid),average='weighted')\n",
    "print('accuracy: ',lgb_acc_score,'\\nF1_score: ',lgb_f1_score)"
   ]
  },
  {
   "cell_type": "code",
   "execution_count": 111,
   "id": "50c7e0dc",
   "metadata": {},
   "outputs": [
    {
     "name": "stdout",
     "output_type": "stream",
     "text": [
      "Test accuracy:  0.8575640316933849 \n",
      "Test F1_score:  0.8546714347530459\n"
     ]
    }
   ],
   "source": [
    "lgb_tacc_score = accuracy_score(y_test,lgb_best.predict(x_test))\n",
    "lgb_tf1_score = f1_score(y_test,lgb_best.predict(x_test),average='weighted')\n",
    "print('Test accuracy: ',lgb_tacc_score,'\\nTest F1_score: ',lgb_tf1_score)"
   ]
  }
 ],
 "metadata": {
  "kernelspec": {
   "display_name": "Python [conda env:tensorflow]",
   "language": "python",
   "name": "conda-env-tensorflow-py"
  },
  "language_info": {
   "codemirror_mode": {
    "name": "ipython",
    "version": 3
   },
   "file_extension": ".py",
   "mimetype": "text/x-python",
   "name": "python",
   "nbconvert_exporter": "python",
   "pygments_lexer": "ipython3",
   "version": "3.9.7"
  }
 },
 "nbformat": 4,
 "nbformat_minor": 5
}
